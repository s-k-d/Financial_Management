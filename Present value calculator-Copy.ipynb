{
 "cells": [
  {
   "cell_type": "code",
   "execution_count": 6,
   "id": "e6a7d849",
   "metadata": {},
   "outputs": [
    {
     "name": "stdout",
     "output_type": "stream",
     "text": [
      "1. Time Value Calculator\n",
      "Enter the inflation rate (r): 23\n",
      "Enter the time periods (y): 23\n",
      "Enter the amount of principle money (p): 100000\n",
      "Do you want to get the Present Value with \n",
      " rate 23.0%\n",
      " time periods 23 years\n",
      " amount 100000.0 INR\n",
      "Press 1 to continue: 0\n",
      "Thank you for using the calculator\n"
     ]
    }
   ],
   "source": [
    "print(\"1. Time Value Calculator\")\n",
    "inflation_rate = float(input(\"Enter the inflation rate (r): \"))\n",
    "time_period = int(input(\"Enter the time periods (y): \"))\n",
    "PV = float(input(\"Enter the amount of principle money (p): \"))    \n",
    "print(\"Do you want to get the Present Value with \"+ \"\\n rate \" + str(inflation_rate) + \"%\" + \"\\n time periods \"+ str(time_period) + \" years\" + \"\\n amount \"+ str(PV) + \" INR\")\n",
    "finalize = int(input(\"Press 1 to continue: \"))\n",
    "    \n",
    "if finalize == 1:\n",
    "        r = inflation_rate / 100\n",
    "        t = time_period\n",
    "        FV = PV / ((1 + r) ** t)\n",
    "        print(\"Future Value: {:.2f}\".format(FV)+\"inr\")\n",
    "else:\n",
    "    print(\"Thank you for using the calculator\")"
   ]
  },
  {
   "cell_type": "code",
   "execution_count": 58,
   "id": "1ba9c34e",
   "metadata": {},
   "outputs": [
    {
     "name": "stdout",
     "output_type": "stream",
     "text": [
      "Retry\n"
     ]
    }
   ],
   "source": []
  },
  {
   "cell_type": "code",
   "execution_count": 41,
   "id": "bda7c203",
   "metadata": {},
   "outputs": [],
   "source": []
  },
  {
   "cell_type": "code",
   "execution_count": null,
   "id": "16cfa1bb",
   "metadata": {},
   "outputs": [],
   "source": []
  }
 ],
 "metadata": {
  "kernelspec": {
   "display_name": "Python 3 (ipykernel)",
   "language": "python",
   "name": "python3"
  },
  "language_info": {
   "codemirror_mode": {
    "name": "ipython",
    "version": 3
   },
   "file_extension": ".py",
   "mimetype": "text/x-python",
   "name": "python",
   "nbconvert_exporter": "python",
   "pygments_lexer": "ipython3",
   "version": "3.10.10"
  }
 },
 "nbformat": 4,
 "nbformat_minor": 5
}
